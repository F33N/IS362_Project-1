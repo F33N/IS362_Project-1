{
 "cells": [
  {
   "cell_type": "code",
   "execution_count": 4,
   "id": "ce776b2d",
   "metadata": {
    "scrolled": true
   },
   "outputs": [
    {
     "name": "stdout",
     "output_type": "stream",
     "text": [
      "   Airline   Destination  On_Time  Delay\n",
      "0   Alaska   Los Angeles      497     62\n",
      "1   Alaska       Phoenix      221     12\n",
      "2   Alaska     San Diego      212     20\n",
      "3   Alaska  San Fransico      503    102\n",
      "4   Alaska       Seattle     1841    305\n",
      "5  AM West   Los Angeles      694    117\n",
      "6  AM West       Phoenix     4840    415\n",
      "7  AM West     San Diego      383     65\n",
      "8  AM West  San Fransico      320    129\n",
      "9  AM West       Seattle      201     61\n"
     ]
    }
   ],
   "source": [
    "import pandas as pd\n",
    "\n",
    "# Path to the CSV file\n",
    "df = pd.read_csv('G:/My Drive/School Work/Spring 2023/IS362/Project 1/airlines.csv')\n",
    "\n",
    "# Print the DataFrame\n",
    "print(df)"
   ]
  },
  {
   "cell_type": "code",
   "execution_count": 6,
   "id": "0d6ad0b7",
   "metadata": {},
   "outputs": [
    {
     "name": "stdout",
     "output_type": "stream",
     "text": [
      "Total delay:\n",
      "Airline\n",
      "AM West    787\n",
      "Alaska     501\n",
      "Name: Delay, dtype: int64\n",
      "\n",
      "Average delay:\n",
      "Airline\n",
      "AM West    157.4\n",
      "Alaska     100.2\n",
      "Name: Delay, dtype: float64\n"
     ]
    }
   ],
   "source": [
    "# Group the data by airline and compute total and average delay\n",
    "total_delay = df.groupby('Airline')['Delay'].sum()\n",
    "average_delay = df.groupby('Airline')['Delay'].mean()\n",
    "\n",
    "print(\"Total delay:\")\n",
    "print(total_delay)\n",
    "print(\"\\nAverage delay:\")\n",
    "print(average_delay)"
   ]
  },
  {
   "cell_type": "code",
   "execution_count": null,
   "id": "37819cea",
   "metadata": {},
   "outputs": [],
   "source": [
    "# Analysis\n",
    "\n",
    "We grouped the data by airline and computed the total and average arrival delay for each airline.\n",
    "\n",
    "# Conclusions\n",
    "\n",
    "From the analysis, we can see that airline [Airline with highest total delay] has the highest total delay, while airline [Airline with highest average delay] has the highest average delay. This suggests that [conclusions based on the data].\n"
   ]
  }
 ],
 "metadata": {
  "kernelspec": {
   "display_name": "Python 3 (ipykernel)",
   "language": "python",
   "name": "python3"
  },
  "language_info": {
   "codemirror_mode": {
    "name": "ipython",
    "version": 3
   },
   "file_extension": ".py",
   "mimetype": "text/x-python",
   "name": "python",
   "nbconvert_exporter": "python",
   "pygments_lexer": "ipython3",
   "version": "3.10.9"
  }
 },
 "nbformat": 4,
 "nbformat_minor": 5
}
